{
 "cells": [
  {
   "cell_type": "code",
   "execution_count": 7,
   "metadata": {},
   "outputs": [],
   "source": [
    "import pandas as pd\n",
    "import sqlite3\n",
    "import matplotlib.pyplot as plt\n",
    "import datetime as dt"
   ]
  },
  {
   "cell_type": "code",
   "execution_count": 8,
   "metadata": {},
   "outputs": [
    {
     "data": {
      "text/html": [
       "<div>\n",
       "<style scoped>\n",
       "    .dataframe tbody tr th:only-of-type {\n",
       "        vertical-align: middle;\n",
       "    }\n",
       "\n",
       "    .dataframe tbody tr th {\n",
       "        vertical-align: top;\n",
       "    }\n",
       "\n",
       "    .dataframe thead th {\n",
       "        text-align: right;\n",
       "    }\n",
       "</style>\n",
       "<table border=\"1\" class=\"dataframe\">\n",
       "  <thead>\n",
       "    <tr style=\"text-align: right;\">\n",
       "      <th></th>\n",
       "      <th>steps</th>\n",
       "      <th>datetime</th>\n",
       "      <th>month</th>\n",
       "      <th>year</th>\n",
       "      <th>day</th>\n",
       "      <th>hour</th>\n",
       "    </tr>\n",
       "  </thead>\n",
       "  <tbody>\n",
       "    <tr>\n",
       "      <th>0</th>\n",
       "      <td>0</td>\n",
       "      <td>2019-10-08 00:00:00</td>\n",
       "      <td>10</td>\n",
       "      <td>2019</td>\n",
       "      <td>1</td>\n",
       "      <td>0</td>\n",
       "    </tr>\n",
       "    <tr>\n",
       "      <th>1</th>\n",
       "      <td>0</td>\n",
       "      <td>2019-10-08 00:01:00</td>\n",
       "      <td>10</td>\n",
       "      <td>2019</td>\n",
       "      <td>1</td>\n",
       "      <td>0</td>\n",
       "    </tr>\n",
       "    <tr>\n",
       "      <th>2</th>\n",
       "      <td>0</td>\n",
       "      <td>2019-10-08 00:02:00</td>\n",
       "      <td>10</td>\n",
       "      <td>2019</td>\n",
       "      <td>1</td>\n",
       "      <td>0</td>\n",
       "    </tr>\n",
       "    <tr>\n",
       "      <th>3</th>\n",
       "      <td>0</td>\n",
       "      <td>2019-10-08 00:03:00</td>\n",
       "      <td>10</td>\n",
       "      <td>2019</td>\n",
       "      <td>1</td>\n",
       "      <td>0</td>\n",
       "    </tr>\n",
       "    <tr>\n",
       "      <th>4</th>\n",
       "      <td>0</td>\n",
       "      <td>2019-10-08 00:04:00</td>\n",
       "      <td>10</td>\n",
       "      <td>2019</td>\n",
       "      <td>1</td>\n",
       "      <td>0</td>\n",
       "    </tr>\n",
       "    <tr>\n",
       "      <th>...</th>\n",
       "      <td>...</td>\n",
       "      <td>...</td>\n",
       "      <td>...</td>\n",
       "      <td>...</td>\n",
       "      <td>...</td>\n",
       "      <td>...</td>\n",
       "    </tr>\n",
       "    <tr>\n",
       "      <th>604795</th>\n",
       "      <td>0</td>\n",
       "      <td>2020-11-30 23:55:00</td>\n",
       "      <td>11</td>\n",
       "      <td>2020</td>\n",
       "      <td>0</td>\n",
       "      <td>23</td>\n",
       "    </tr>\n",
       "    <tr>\n",
       "      <th>604796</th>\n",
       "      <td>0</td>\n",
       "      <td>2020-11-30 23:56:00</td>\n",
       "      <td>11</td>\n",
       "      <td>2020</td>\n",
       "      <td>0</td>\n",
       "      <td>23</td>\n",
       "    </tr>\n",
       "    <tr>\n",
       "      <th>604797</th>\n",
       "      <td>0</td>\n",
       "      <td>2020-11-30 23:57:00</td>\n",
       "      <td>11</td>\n",
       "      <td>2020</td>\n",
       "      <td>0</td>\n",
       "      <td>23</td>\n",
       "    </tr>\n",
       "    <tr>\n",
       "      <th>604798</th>\n",
       "      <td>0</td>\n",
       "      <td>2020-11-30 23:58:00</td>\n",
       "      <td>11</td>\n",
       "      <td>2020</td>\n",
       "      <td>0</td>\n",
       "      <td>23</td>\n",
       "    </tr>\n",
       "    <tr>\n",
       "      <th>604799</th>\n",
       "      <td>0</td>\n",
       "      <td>2020-11-30 23:59:00</td>\n",
       "      <td>11</td>\n",
       "      <td>2020</td>\n",
       "      <td>0</td>\n",
       "      <td>23</td>\n",
       "    </tr>\n",
       "  </tbody>\n",
       "</table>\n",
       "<p>604800 rows × 6 columns</p>\n",
       "</div>"
      ],
      "text/plain": [
       "        steps            datetime  month  year  day  hour\n",
       "0           0 2019-10-08 00:00:00     10  2019    1     0\n",
       "1           0 2019-10-08 00:01:00     10  2019    1     0\n",
       "2           0 2019-10-08 00:02:00     10  2019    1     0\n",
       "3           0 2019-10-08 00:03:00     10  2019    1     0\n",
       "4           0 2019-10-08 00:04:00     10  2019    1     0\n",
       "...       ...                 ...    ...   ...  ...   ...\n",
       "604795      0 2020-11-30 23:55:00     11  2020    0    23\n",
       "604796      0 2020-11-30 23:56:00     11  2020    0    23\n",
       "604797      0 2020-11-30 23:57:00     11  2020    0    23\n",
       "604798      0 2020-11-30 23:58:00     11  2020    0    23\n",
       "604799      0 2020-11-30 23:59:00     11  2020    0    23\n",
       "\n",
       "[604800 rows x 6 columns]"
      ]
     },
     "execution_count": 8,
     "metadata": {},
     "output_type": "execute_result"
    }
   ],
   "source": [
    "\n",
    "cnx = sqlite3.connect('C:\\\\Users\\\\janet\\\\PycharmProjects\\\\fitbit\\\\data2.db')\n",
    "steps = pd.read_sql_query(\"SELECT * FROM steps \", cnx)\n",
    "\n",
    "steps['datetime'] = steps['date'] + ' ' + steps['time']\n",
    "steps = steps.drop(['date', 'time'], axis=1)\n",
    "steps.datetime = pd.to_datetime(steps['datetime'])\n",
    "steps['month'] = steps['datetime'].apply(lambda time: time.month)\n",
    "steps['year'] = steps['datetime'].apply(lambda time: time.year)\n",
    "steps['day'] = steps['datetime'].apply(lambda time: time.dayofweek)\n",
    "steps['hour'] = steps['datetime'].apply(lambda time: time.hour)\n",
    "steps"
   ]
  },
  {
   "cell_type": "markdown",
   "metadata": {},
   "source": [
    "So far from 08.10.2019 until 30.11.2020 \n"
   ]
  },
  {
   "cell_type": "code",
   "execution_count": 10,
   "metadata": {},
   "outputs": [
    {
     "name": "stdout",
     "output_type": "stream",
     "text": [
      " I have made a total of 4353625 steps\n"
     ]
    }
   ],
   "source": [
    "print(f\" I have made a total of {steps.steps.sum()} steps\")\n"
   ]
  },
  {
   "cell_type": "markdown",
   "metadata": {},
   "source": [
    "if 1 step is about 0.64 m, then I have walked **2,786.320 km** which \n",
    "is a little bit more than the distance ***from Heidelberg to Moscow***"
   ]
  },
  {
   "cell_type": "code",
   "execution_count": 1,
   "metadata": {},
   "outputs": [
    {
     "data": {
      "application/vnd.jupyter.widget-view+json": {
       "model_id": "903d92e611b1454aa99a6796098d5b2c",
       "version_major": 2,
       "version_minor": 0
      },
      "text/plain": [
       "Map(center=[50.6259, 35.9333333], controls=(ZoomControl(options=['position', 'zoom_in_text', 'zoom_in_title', …"
      ]
     },
     "metadata": {},
     "output_type": "display_data"
    }
   ],
   "source": [
    "import ipyleaflet\n",
    "from ipyleaflet import Map, basemaps, Marker, AntPath\n",
    "\n",
    "basic_map = ipyleaflet.Map(basemap=basemaps.OpenStreetMap.Mapnik, center = (50.6259, 35.9333333), zoom = 3.9)\n",
    "\n",
    "Heidelberg = (49.4076, 8.6907)\n",
    "Moscow = (55.75, 37.6155)\n",
    "markerH = Marker(location = Heidelberg, title = \"Heidelberg\", draggable = False)\n",
    "markerM =Marker(location = Moscow, title = \"Moscow\", draggable = False)\n",
    "\n",
    "basic_map.add_layer(markerH)\n",
    "basic_map.add_layer(markerM)\n",
    "\n",
    "ant_path = AntPath(\n",
    "    locations=[[49.407, 8.690], [49.4892, 8.467], [49.872, 8.651], [50.10665, 8.662], \n",
    "               [51.340, 12.374], [52.5170, 13.388], [52.408, 16.93],[51.768, 19.456],\n",
    "               [52.232, 21.006], [53.132, 23.159], [53.405, 23.499], [53.702, 25.072], \n",
    "               [53.818, 27.55], [54.78141, 32.04613], [55.75, 37.6155]], dash_array=[1, 10], delay=1000, color='#324664', pulse_color='#3f6fba')\n",
    "basic_map.add_layer(ant_path)\n",
    "\n",
    "\n",
    "basic_map"
   ]
  },
  {
   "cell_type": "code",
   "execution_count": null,
   "metadata": {},
   "outputs": [],
   "source": []
  }
 ],
 "metadata": {
  "kernelspec": {
   "display_name": "Python 3",
   "language": "python",
   "name": "python3"
  },
  "language_info": {
   "codemirror_mode": {
    "name": "ipython",
    "version": 3
   },
   "file_extension": ".py",
   "mimetype": "text/x-python",
   "name": "python",
   "nbconvert_exporter": "python",
   "pygments_lexer": "ipython3",
   "version": "3.8.5"
  }
 },
 "nbformat": 4,
 "nbformat_minor": 4
}
